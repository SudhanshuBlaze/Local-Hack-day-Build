{
 "cells": [
  {
   "cell_type": "code",
   "execution_count": null,
   "metadata": {},
   "outputs": [],
   "source": [
    "pip install googletrans\n",
    "pip install pyaudio\n",
    "pip install SpeechRecognition\n",
    "pip install gtts"
   ]
  },
  {
   "cell_type": "code",
   "execution_count": null,
   "metadata": {},
   "outputs": [],
   "source": [
    "import googletrans"
   ]
  },
  {
   "cell_type": "code",
   "execution_count": null,
   "metadata": {},
   "outputs": [],
   "source": [
    "print(googletrans.LANGUAGES)"
   ]
  },
  {
   "cell_type": "code",
   "execution_count": null,
   "metadata": {},
   "outputs": [],
   "source": [
    "import speech_recognition as spr \n",
    "from googletrans import Translator \n",
    "from gtts import gTTS \n",
    "import os \n",
    "  \n",
    "  \n",
    "# Creating Recogniser() class object \n",
    "recog1 = spr.Recognizer() \n",
    "   \n",
    "mc = spr.Microphone()  \n",
    " \n",
    "with mc as source: \n",
    "    print(\"Speak 'hello' to initiate the Translation !\") \n",
    "    print(\"~~~~~~~~~~~~~~~~~~~~~~~~~~~~~~~~~~~~~~~~~~~~\") \n",
    "    recog1.adjust_for_ambient_noise(source, duration=0.2) \n",
    "    audio = recog1.listen(source) \n",
    "    MyText = recog1.recognize_google(audio)  \n",
    "    MyText = MyText.lower() \n",
    "  \n",
    ". \n",
    "if 'hello' in MyText: \n",
    "       \n",
    "    translator = Translator() \n",
    "      \n",
    "    from_lang = 'en'\n",
    "      \n",
    "    to_lang = 'hi'\n",
    "      \n",
    "    with mc as source: \n",
    "          \n",
    "        print(\"Speak a stentence...\") \n",
    "        recog1.adjust_for_ambient_noise(source, duration=0.2) \n",
    "          \n",
    "        audio = recog1.listen(source) \n",
    "          \n",
    "        get_sentence = recog1.recognize_google(audio) \n",
    " \n",
    "        try: \n",
    "        \n",
    "            print(\"Phase to be Translated :\"+ get_sentence) \n",
    "  \n",
    "            text_to_translate = translator.translate(get_sentence,  \n",
    "                                                     src= from_lang, \n",
    "                                                     dest= to_lang) \n",
    "              \n",
    "            text = text_to_translate.text  \n",
    "  \n",
    "            speak = gTTS(text=text, lang=to_lang, slow= False)  \n",
    "  \n",
    "            speak.save(\"captured_voice.mp3\")      \n",
    "              \n",
    "            os.system(\"start captured_voice.mp3\") \n",
    "  \n",
    "       \n",
    "        except spr.UnknownValueError: \n",
    "            print(\"Unable to Understand the Input\") \n",
    "              \n",
    "        except spr.RequestError as e: \n",
    "            print(\"Unable to provide Required Output\".format(e))"
   ]
  },
  {
   "cell_type": "code",
   "execution_count": null,
   "metadata": {},
   "outputs": [],
   "source": []
  }
 ],
 "metadata": {
  "kernelspec": {
   "display_name": "Python 3",
   "language": "python",
   "name": "python3"
  },
  "language_info": {
   "codemirror_mode": {
    "name": "ipython",
    "version": 3
   },
   "file_extension": ".py",
   "mimetype": "text/x-python",
   "name": "python",
   "nbconvert_exporter": "python",
   "pygments_lexer": "ipython3",
   "version": "3.8.3"
  }
 },
 "nbformat": 4,
 "nbformat_minor": 4
}
